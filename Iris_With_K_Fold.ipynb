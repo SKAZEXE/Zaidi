{
  "nbformat": 4,
  "nbformat_minor": 0,
  "metadata": {
    "colab": {
      "provenance": [],
      "toc_visible": true,
      "authorship_tag": "ABX9TyOXxiIFjCJIfRg/GlYRvpgP",
      "include_colab_link": true
    },
    "kernelspec": {
      "name": "python3",
      "display_name": "Python 3"
    },
    "language_info": {
      "name": "python"
    }
  },
  "cells": [
    {
      "cell_type": "markdown",
      "metadata": {
        "id": "view-in-github",
        "colab_type": "text"
      },
      "source": [
        "<a href=\"https://colab.research.google.com/github/SKAZEXE/Zaidi/blob/main/Iris_With_K_Fold.ipynb\" target=\"_parent\"><img src=\"https://colab.research.google.com/assets/colab-badge.svg\" alt=\"Open In Colab\"/></a>"
      ]
    },
    {
      "cell_type": "code",
      "execution_count": 18,
      "metadata": {
        "id": "yo2WxpKo1YPI"
      },
      "outputs": [],
      "source": [
        "import numpy as np\n",
        "import pandas as pd\n",
        "from sklearn.datasets import load_iris\n",
        "from sklearn.model_selection import train_test_split, cross_val_score, KFold\n",
        "from sklearn.linear_model import LogisticRegression\n",
        "from sklearn.ensemble import RandomForestClassifier\n",
        "from sklearn.svm import SVC\n",
        "from sklearn.tree import DecisionTreeClassifier\n"
      ]
    },
    {
      "cell_type": "code",
      "source": [
        "iris = load_iris()\n",
        "X, y = iris.data, iris.target"
      ],
      "metadata": {
        "id": "L7FuBJ841hm3"
      },
      "execution_count": 19,
      "outputs": []
    },
    {
      "cell_type": "code",
      "source": [
        "X_train, X_test, y_train, y_test = train_test_split(X, y, test_size=0.2, random_state=42)\n"
      ],
      "metadata": {
        "id": "UDUw765g1kmM"
      },
      "execution_count": 20,
      "outputs": []
    },
    {
      "cell_type": "code",
      "source": [
        "kf = KFold(n_splits=5, shuffle=True, random_state=42)\n"
      ],
      "metadata": {
        "id": "HfXkuQQ21mfw"
      },
      "execution_count": 21,
      "outputs": []
    },
    {
      "cell_type": "code",
      "source": [
        "# Logistic Regression with increased max_iter\n",
        "logistic_reg = LogisticRegression(max_iter=1000)\n",
        "logistic_train_scores = cross_val_score(logistic_reg, X_train, y_train, cv=kf)\n",
        "logistic_test_score = logistic_reg.fit(X_train, y_train).score(X_test, y_test)\n",
        "print(\"Logistic Regression Mean Train Accuracy:\", np.mean(logistic_train_scores))\n",
        "print(\"Logistic Regression Test Accuracy:\", logistic_test_score)\n"
      ],
      "metadata": {
        "colab": {
          "base_uri": "https://localhost:8080/"
        },
        "id": "G2FpwonT1qhU",
        "outputId": "20a0517b-cd21-4174-d195-269124532f9d"
      },
      "execution_count": 22,
      "outputs": [
        {
          "output_type": "stream",
          "name": "stdout",
          "text": [
            "Logistic Regression Mean Train Accuracy: 0.95\n",
            "Logistic Regression Test Accuracy: 1.0\n"
          ]
        }
      ]
    },
    {
      "cell_type": "code",
      "source": [
        "# Random Forest\n",
        "random_forest = RandomForestClassifier(n_estimators=50, random_state=42)\n",
        "rf_train_scores = cross_val_score(random_forest, X_train, y_train, cv=kf)\n",
        "rf_test_score = random_forest.fit(X_train, y_train).score(X_test, y_test)\n",
        "print(\"Random Forest Mean Train Accuracy:\", np.mean(rf_train_scores))\n",
        "print(\"Random Forest Test Accuracy:\", rf_test_score)"
      ],
      "metadata": {
        "colab": {
          "base_uri": "https://localhost:8080/"
        },
        "id": "2ExREgL21sBx",
        "outputId": "0daf25c1-4148-4f5a-f52b-e09fe215ad8a"
      },
      "execution_count": 27,
      "outputs": [
        {
          "output_type": "stream",
          "name": "stdout",
          "text": [
            "Random Forest Mean Train Accuracy: 0.925\n",
            "Random Forest Test Accuracy: 1.0\n"
          ]
        }
      ]
    },
    {
      "cell_type": "code",
      "source": [
        "# Support Vector Machine\n",
        "svm_classifier = SVC(kernel='linear')\n",
        "svm_train_scores = cross_val_score(svm_classifier, X_train, y_train, cv=kf)\n",
        "svm_test_score = svm_classifier.fit(X_train, y_train).score(X_test, y_test)\n",
        "print(\"SVM Mean Train Accuracy:\", np.mean(svm_train_scores))\n",
        "print(\"SVM Test Accuracy:\", svm_test_score)"
      ],
      "metadata": {
        "colab": {
          "base_uri": "https://localhost:8080/"
        },
        "id": "HshpLuSy1teZ",
        "outputId": "9513c592-7728-46c5-be73-ca1edbfcb5e3"
      },
      "execution_count": 24,
      "outputs": [
        {
          "output_type": "stream",
          "name": "stdout",
          "text": [
            "SVM Mean Train Accuracy: 0.9583333333333333\n",
            "SVM Test Accuracy: 1.0\n"
          ]
        }
      ]
    },
    {
      "cell_type": "code",
      "source": [
        "# Decision Tree\n",
        "decision_tree = DecisionTreeClassifier(random_state=42)\n",
        "dt_train_scores = cross_val_score(decision_tree, X_train, y_train, cv=kf)\n",
        "dt_test_score = decision_tree.fit(X_train, y_train).score(X_test, y_test)\n",
        "print(\"Decision Tree Mean Train Accuracy:\", np.mean(dt_train_scores))\n",
        "print(\"Decision Tree Test Accuracy:\", dt_test_score)\n"
      ],
      "metadata": {
        "colab": {
          "base_uri": "https://localhost:8080/"
        },
        "id": "vOuAhD0B1v4T",
        "outputId": "3595ffab-51f1-44b3-b691-a55a17f9e809"
      },
      "execution_count": 25,
      "outputs": [
        {
          "output_type": "stream",
          "name": "stdout",
          "text": [
            "Decision Tree Mean Train Accuracy: 0.9166666666666666\n",
            "Decision Tree Test Accuracy: 1.0\n"
          ]
        }
      ]
    }
  ]
}